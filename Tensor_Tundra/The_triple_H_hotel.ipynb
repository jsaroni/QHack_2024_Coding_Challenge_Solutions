{
 "cells": [
  {
   "cell_type": "code",
   "execution_count": 1,
   "metadata": {},
   "outputs": [],
   "source": [
    "import json\n",
    "import pennylane as qml\n",
    "import pennylane.numpy as np"
   ]
  },
  {
   "cell_type": "code",
   "execution_count": 2,
   "metadata": {},
   "outputs": [],
   "source": [
    "\n",
    "symbols = [\"H\", \"H\", \"H\"]\n",
    "\n",
    "\n",
    "def h3_ground_energy(bond_length):\n",
    "    \n",
    "    \"\"\"\n",
    "    Uses VQE to calculate the ground energy of the H3+ molecule with the given bond length.\n",
    "    \n",
    "    Args:\n",
    "        - bond_length(float): The bond length of the H3+ molecule modelled as an\n",
    "        equilateral triangle.\n",
    "    Returns:\n",
    "        - Union[float, np.tensor, np.array]: A float-like output containing the ground \n",
    "        state of the H3+ molecule with the given bond length.\n",
    "    \"\"\"\n",
    "    \n",
    "\n",
    "    L=bond_length\n",
    "    \n",
    "    x = np.array([-L/2/np.sqrt(3), L/2, 0.0, L/np.sqrt(3), 0.0, 0.0,-L/2/np.sqrt(3), -L/2, 0.0])#/a0\n",
    "    symbols = [\"H\",\"H\",\"H\"]\n",
    "    \n",
    "    Charge=1\n",
    "    Hamiltonian=qml.qchem.molecular_hamiltonian( symbols, x,charge=1, basis=\"sto-3g\")[0]\n",
    "    \n",
    "\n",
    "    num_qubits = len(Hamiltonian.wires)\n",
    "    Electrun_num=3-Charge\n",
    "    hf_state=qml.qchem.hf_state(electrons=Electrun_num, orbitals=num_qubits)\n",
    "\n",
    "    singles, doubles = qml.qchem.excitations(Electrun_num, num_qubits)\n",
    "    dev = qml.device(\"default.qubit\", wires=num_qubits)\n",
    "    @qml.qnode(dev)\n",
    "    def cost(weights):\n",
    "        \"\"\"A circuit with tunable parameters/weights that measures the expectation value of the hydrogen Hamiltonian.\n",
    "        \n",
    "        Args:\n",
    "            weights (numpy.array): An array of tunable parameters.\n",
    "\n",
    "        Returns:\n",
    "            (float): The expectation value of the hydrogen Hamiltonian.\n",
    "            \n",
    "        \"\"\"\n",
    "        #state=np.array([0]*(num_qubits//2)+[1]*(num_qubits//2))\n",
    "        qml.BasisState(hf_state, wires=list(range(num_qubits)))\n",
    "\n",
    "        for i in range(len(singles)):\n",
    "            #for j in range(E_len):\n",
    "            qml.SingleExcitation(weights[i], wires=singles[i])\n",
    "\n",
    "        for i in range(len(doubles)):\n",
    "            qml.DoubleExcitation(weights[i+len(singles)], wires=doubles[i])\n",
    "        \n",
    "        return qml.expval(Hamiltonian)\n",
    "    \n",
    "    #np.random.seed = 1234\n",
    "    weights = np.random.normal(\n",
    "        0, np.pi, len(singles) + len(doubles), requires_grad=True\n",
    "    )\n",
    "    opt = qml.AdamOptimizer(0.5)\n",
    "\n",
    "    for _ in range(100):\n",
    "        weights = opt.step(cost, weights)\n",
    "\n",
    "    return cost(weights)\n",
    "\n",
    "# These functions are responsible for testing the solution.\n",
    "\n",
    "def run(test_case_input: str) -> str:\n",
    "    ins = json.loads(test_case_input)\n",
    "    outs = h3_ground_energy(ins)\n",
    "    return str(outs)\n",
    "\n",
    "\n",
    "def check(solution_output: str, expected_output: str) -> None:\n",
    "    solution_output = json.loads(solution_output)\n",
    "    expected_output = json.loads(expected_output)\n",
    "    assert np.allclose(solution_output,expected_output, atol = 1e-4), \"Not the correct ground energy\""
   ]
  },
  {
   "cell_type": "code",
   "execution_count": 3,
   "metadata": {},
   "outputs": [],
   "source": [
    "# These are the public test cases\n",
    "test_cases = [\n",
    "    ('1.5', '-1.232574'),\n",
    "    ('0.8', '-0.3770325')\n",
    "]"
   ]
  },
  {
   "cell_type": "code",
   "execution_count": 4,
   "metadata": {},
   "outputs": [
    {
     "name": "stdout",
     "output_type": "stream",
     "text": [
      "Running test case 0 with input '1.5'...\n",
      "Correct!\n",
      "Running test case 1 with input '0.8'...\n",
      "Correct!\n"
     ]
    }
   ],
   "source": [
    "# This will run the public test cases locally\n",
    "for i, (input_, expected_output) in enumerate(test_cases):\n",
    "    print(f\"Running test case {i} with input '{input_}'...\")\n",
    "\n",
    "    try:\n",
    "        output = run(input_)\n",
    "\n",
    "    except Exception as exc:\n",
    "        print(f\"Runtime Error. {exc}\")\n",
    "\n",
    "    else:\n",
    "        if message := check(output, expected_output):\n",
    "            print(f\"Wrong Answer. Have: '{output}'. Want: '{expected_output}'.\")\n",
    "\n",
    "        else:\n",
    "            print(\"Correct!\")"
   ]
  }
 ],
 "metadata": {
  "kernelspec": {
   "display_name": "base",
   "language": "python",
   "name": "python3"
  },
  "language_info": {
   "codemirror_mode": {
    "name": "ipython",
    "version": 3
   },
   "file_extension": ".py",
   "mimetype": "text/x-python",
   "name": "python",
   "nbconvert_exporter": "python",
   "pygments_lexer": "ipython3",
   "version": "3.11.4"
  },
  "orig_nbformat": 4
 },
 "nbformat": 4,
 "nbformat_minor": 2
}
