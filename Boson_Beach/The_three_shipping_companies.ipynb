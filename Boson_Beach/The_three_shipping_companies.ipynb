{
 "cells": [
  {
   "cell_type": "code",
   "execution_count": 1,
   "metadata": {},
   "outputs": [],
   "source": [
    "import json\n",
    "import pennylane as qml\n",
    "import pennylane.numpy as np"
   ]
  },
  {
   "cell_type": "code",
   "execution_count": 2,
   "metadata": {},
   "outputs": [],
   "source": [
    "\n",
    "def U():\n",
    "    \"\"\"\n",
    "    Quantum circuit that facilitates the distribution of goods.\n",
    "    It should not return anything, you simply need to add the gates.\n",
    "    \"\"\"\n",
    "\n",
    "    for i in range(1,2**10):\n",
    "        string=bin(i)[2:]\n",
    "        if len(string)<10:\n",
    "            string=(10-len(string))*'0'+string\n",
    "        lst=' '.join(string).split(' ')\n",
    "        cv=tuple(map(int, lst))\n",
    "        if sum(cv)%3 == 1:\n",
    "            qml.ctrl(qml.PauliX,(0,1,2,3,4,5,6,7,8,9),control_values=cv)(wires=10)\n",
    "        if sum(cv)%3 == 2:\n",
    "            qml.ctrl(qml.PauliX,(0,1,2,3,4,5,6,7,8,9),control_values=cv)(wires=11)\n",
    "\n",
    "    for i in range(10):\n",
    "        qml.CNOT(wires=[10,i])\n",
    "\n",
    "    qml.CNOT(wires=[11,0])\n",
    "\n",
    "    for i in range(1,2**10):\n",
    "        string=bin(i)[2:]\n",
    "        if len(string)<10:\n",
    "            string=(10-len(string))*'0'+string\n",
    "        lst=' '.join(string).split(' ')\n",
    "        cv=tuple(map(int, lst))\n",
    "        if sum(cv)%3 == 1:\n",
    "            qml.ctrl(qml.PauliX,(0,1,2,3,4,5,6,7,8,9),control_values=cv)(wires=12)\n",
    "    \n",
    "    for i in range(10):\n",
    "        qml.CNOT(wires=[12,i])\n",
    "\n",
    "# These functions are responsible for testing the solution.\n",
    "\n",
    "\n",
    "def run(test_case_input: str) -> str:\n",
    "    return None\n",
    "\n",
    "\n",
    "def check(have: str, want: str) -> None:\n",
    "    have, want = have, want\n",
    "    params = np.random.rand(10, 2)\n",
    "\n",
    "    dev = qml.device(\"default.qubit\", wires=13, shots=1000)\n",
    "\n",
    "    def generate_phi(params, wires):\n",
    "        for i in range(len(wires)):\n",
    "            qml.RX(params[i][0], wires=wires[i])\n",
    "\n",
    "        for i in range(len(wires) - 1):\n",
    "            qml.CNOT(wires=[i, i + 1])\n",
    "\n",
    "        for i in range(len(wires)):\n",
    "            qml.RX(params[i][1], wires=wires[i])\n",
    "\n",
    "    @qml.qnode(dev)\n",
    "    def circuit():\n",
    "        generate_phi(params, wires=range(10))\n",
    "        U()\n",
    "        return qml.sample(wires=range(10))\n",
    "\n",
    "    shots = circuit()\n",
    "    for shot in shots:\n",
    "        assert sum(shot) % 3 == 0, \"Wrong answer\"\n",
    "\n",
    "    for op in circuit.tape.operations:\n",
    "        assert not isinstance(op, qml.QubitUnitary), \"You can't use QubitUnitary\"\n",
    "        assert not isinstance(op, qml.measurements.mid_measure.MidMeasureMP), \"You cannot use measurements\""
   ]
  },
  {
   "cell_type": "code",
   "execution_count": 3,
   "metadata": {},
   "outputs": [],
   "source": [
    "# These are the public test cases\n",
    "test_cases = [\n",
    "    ('No input', 'No output')\n",
    "]"
   ]
  },
  {
   "cell_type": "code",
   "execution_count": 4,
   "metadata": {},
   "outputs": [
    {
     "name": "stdout",
     "output_type": "stream",
     "text": [
      "Running test case 0 with input 'No input'...\n",
      "Correct!\n"
     ]
    }
   ],
   "source": [
    "# This will run the public test cases locally\n",
    "for i, (input_, expected_output) in enumerate(test_cases):\n",
    "    print(f\"Running test case {i} with input '{input_}'...\")\n",
    "\n",
    "    try:\n",
    "        output = run(input_)\n",
    "\n",
    "    except Exception as exc:\n",
    "        print(f\"Runtime Error. {exc}\")\n",
    "\n",
    "    else:\n",
    "        if message := check(output, expected_output):\n",
    "            print(f\"Wrong Answer. Have: '{output}'. Want: '{expected_output}'.\")\n",
    "\n",
    "        else:\n",
    "            print(\"Correct!\")"
   ]
  },
  {
   "cell_type": "code",
   "execution_count": null,
   "metadata": {},
   "outputs": [],
   "source": []
  },
  {
   "cell_type": "code",
   "execution_count": null,
   "metadata": {},
   "outputs": [],
   "source": []
  }
 ],
 "metadata": {
  "kernelspec": {
   "display_name": "base",
   "language": "python",
   "name": "python3"
  },
  "language_info": {
   "codemirror_mode": {
    "name": "ipython",
    "version": 3
   },
   "file_extension": ".py",
   "mimetype": "text/x-python",
   "name": "python",
   "nbconvert_exporter": "python",
   "pygments_lexer": "ipython3",
   "version": "3.11.4"
  },
  "orig_nbformat": 4
 },
 "nbformat": 4,
 "nbformat_minor": 2
}
