{
 "cells": [
  {
   "cell_type": "code",
   "execution_count": 5,
   "metadata": {},
   "outputs": [],
   "source": [
    "import json\n",
    "import pennylane as qml\n",
    "import pennylane.numpy as np"
   ]
  },
  {
   "cell_type": "code",
   "execution_count": 6,
   "metadata": {},
   "outputs": [],
   "source": [
    "\n",
    "def binary_to_grey(num_wires):\n",
    "\n",
    "    \"\"\"\n",
    "    A function mapping binary encoded qubits to gray code.\n",
    "\n",
    "    Args:\n",
    "        num_wires (int): The number of qubits.\n",
    "\n",
    "    \"\"\"\n",
    "\n",
    "    # Put your solution here #\n",
    "    qml.CNOT(wires = [0,1])\n",
    "    for i in range(2, num_wires):\n",
    "        qml.MultiControlledX(wires = [i-2, i-1, i], control_values= \"01\")\n",
    "def run(test_case_input: str) -> str:\n",
    "    binary_string = json.loads(test_case_input)\n",
    "    n_wires = int(len(binary_string))\n",
    "\n",
    "    dev = qml.device(\"default.qubit\", wires = n_wires)\n",
    "    @qml.qnode(dev)\n",
    "    def circuit():\n",
    "        qml.BasisEmbedding(binary_string, range(n_wires))\n",
    "        binary_to_grey(n_wires)\n",
    "        return qml.probs()\n",
    "    \n",
    "    output = circuit().tolist()\n",
    "    \n",
    "    return str(output)\n",
    "\n",
    "def check(solution_output: str, expected_output: str) -> None:\n",
    "    solution_output = json.loads(solution_output)\n",
    "    expected_output = json.loads(expected_output)\n",
    "    assert np.allclose(solution_output, expected_output, rtol=1e-4)"
   ]
  },
  {
   "cell_type": "code",
   "execution_count": 7,
   "metadata": {},
   "outputs": [],
   "source": [
    "# These are the public test cases\n",
    "test_cases = [\n",
    "    ('[0,1,0]', '[0, 0, 0, 1, 0, 0, 0, 0]'),\n",
    "    ('[0,1,1]', '[0, 0, 1, 0, 0, 0, 0, 0]')\n",
    "]"
   ]
  },
  {
   "cell_type": "code",
   "execution_count": 8,
   "metadata": {},
   "outputs": [
    {
     "name": "stdout",
     "output_type": "stream",
     "text": [
      "Running test case 0 with input '[0,1,0]'...\n",
      "Correct!\n",
      "Running test case 1 with input '[0,1,1]'...\n",
      "Correct!\n"
     ]
    }
   ],
   "source": [
    "# This will run the public test cases locally\n",
    "for i, (input_, expected_output) in enumerate(test_cases):\n",
    "    print(f\"Running test case {i} with input '{input_}'...\")\n",
    "\n",
    "    try:\n",
    "        output = run(input_)\n",
    "\n",
    "    except Exception as exc:\n",
    "        print(f\"Runtime Error. {exc}\")\n",
    "\n",
    "    else:\n",
    "        if message := check(output, expected_output):\n",
    "            print(f\"Wrong Answer. Have: '{output}'. Want: '{expected_output}'.\")\n",
    "\n",
    "        else:\n",
    "            print(\"Correct!\")"
   ]
  }
 ],
 "metadata": {
  "kernelspec": {
   "display_name": "base",
   "language": "python",
   "name": "python3"
  },
  "language_info": {
   "codemirror_mode": {
    "name": "ipython",
    "version": 3
   },
   "file_extension": ".py",
   "mimetype": "text/x-python",
   "name": "python",
   "nbconvert_exporter": "python",
   "pygments_lexer": "ipython3",
   "version": "3.11.4"
  },
  "orig_nbformat": 4
 },
 "nbformat": 4,
 "nbformat_minor": 2
}
