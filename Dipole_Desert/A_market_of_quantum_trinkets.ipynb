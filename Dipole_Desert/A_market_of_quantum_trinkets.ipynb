{
 "cells": [
  {
   "cell_type": "code",
   "execution_count": 1,
   "metadata": {},
   "outputs": [],
   "source": [
    "import json\n",
    "import pennylane as qml\n",
    "import pennylane.numpy as np"
   ]
  },
  {
   "cell_type": "code",
   "execution_count": 2,
   "metadata": {},
   "outputs": [],
   "source": [
    "\n",
    "# Write any helper functions you need here\n",
    "\n",
    "dev = qml.device('default.qubit', wires=[0,1,2])\n",
    "\n",
    "@qml.qnode(dev)\n",
    "def cloning_machine(coefficients, wire):\n",
    "    \n",
    "    \"\"\"\n",
    "    Returns the reduced density matrix on a wire for the cloning machine circuit.\n",
    "    \n",
    "    Args:\n",
    "        - coefficients (np.array(float)): an array [c0,c1] containing the coefficients parametrizing\n",
    "        the input state fed into the middle and bottom wires of the cloning machine.\n",
    "        wire (int): The wire on which we calculate the reduced density matrix.\n",
    "\n",
    "    Returns:\n",
    "        - np.tensor(complex): The reduced density matrix on wire = wire, as returned by qml.density_matrix.\n",
    "    \n",
    "    \"\"\"\n",
    "    \n",
    "    # Put your code here\n",
    "\n",
    "    qml.RY( np.arctan( coefficients[1]/coefficients[0] ) , wires=1)\n",
    "    qml.RY( 2*np.arccos( (coefficients[0]+coefficients[1])/np.sqrt(2) ) , wires=2)\n",
    "    qml.CNOT(wires = [2,1])\n",
    "    qml.RY( -np.arctan( coefficients[1]/coefficients[0] ) , wires=1)\n",
    "\n",
    "    qml.CNOT(wires = [0,1])\n",
    "    qml.CNOT(wires = [0,2])\n",
    "    qml.CNOT(wires = [1,0])\n",
    "    qml.CNOT(wires = [2,0])\n",
    "    \n",
    "    # Return the reduced density matrix\n",
    "    return qml.density_matrix([wire])\n",
    "\n",
    "def fidelity(coefficients):\n",
    "    \n",
    "    \"\"\"\n",
    "    Calculates the fidelities between the reduced density matrices in wires 0 and 1 and the input state |0>.\n",
    "    \n",
    "    Args:\n",
    "        - coefficients (np.array(float)): an array [c0,c1] containing the coefficients parametrizing\n",
    "        the input state fed into the middle and bottom wires of the cloning machine.\n",
    "    Returns:\n",
    "        - (np.array(float)): An array whose elements are:\n",
    "            - 0th element:  The fidelity between the output reduced state on wire 0 and the state |0>.\n",
    "            - 1st element:  The fidelity between the output reduced state on wire 1 and the state |0>.    \n",
    "    \"\"\"\n",
    "    \n",
    "\n",
    "    # Put your code here\n",
    "    fidarr = []\n",
    "    state0 = np.array( [[1.+0.j, 0.+0.j],\n",
    "        [0.+0.j, 0.+0.j]] )\n",
    "\n",
    "    state1 = cloning_machine( coefficients, 0 )\n",
    "    f1 = qml.math.fidelity(state0, state1)\n",
    "    fidarr.append( f1 )\n",
    "    state2 = cloning_machine( coefficients, 1 )\n",
    "    f2 = qml.math.fidelity(state0, state2)\n",
    "    fidarr.append( f2 )\n",
    "    return (np.array(fidarr))\n",
    "    \n",
    "\n",
    "# These functions are responsible for testing the solution.\n",
    "\n",
    "\n",
    "def run(test_case_input: str) -> str:\n",
    "    ins = json.loads(test_case_input)\n",
    "    outs = fidelity(ins).tolist()\n",
    "    \n",
    "    return str(outs)\n",
    "\n",
    "\n",
    "def check(solution_output: str, expected_output: str) -> None:\n",
    "    solution_output = json.loads(solution_output)\n",
    "    expected_output = json.loads(expected_output)\n",
    "    u = cloning_machine([1/np.sqrt(3),1/np.sqrt(3)],1)\n",
    "    for op in cloning_machine.tape.operations:\n",
    "        assert (isinstance(op, qml.RX) or isinstance(op, qml.RY) or isinstance(op, qml.CNOT)), \"You are using forbidden gates!\"\n",
    "    assert np.allclose(solution_output,expected_output, atol = 1e-4), \"Not the correct fidelities\""
   ]
  },
  {
   "cell_type": "code",
   "execution_count": 3,
   "metadata": {},
   "outputs": [],
   "source": [
    "# These are the public test cases\n",
    "test_cases = [\n",
    "    ('[0.5773502691896258, 0.5773502691896257]', '[0.83333333, 0.83333333]'),\n",
    "    ('[0.2, 0.8848857801796105]', '[0.60848858, 0.98]')\n",
    "]"
   ]
  },
  {
   "cell_type": "code",
   "execution_count": 4,
   "metadata": {},
   "outputs": [
    {
     "name": "stdout",
     "output_type": "stream",
     "text": [
      "Running test case 0 with input '[0.5773502691896258, 0.5773502691896257]'...\n",
      "Correct!\n",
      "Running test case 1 with input '[0.2, 0.8848857801796105]'...\n",
      "Correct!\n"
     ]
    }
   ],
   "source": [
    "# This will run the public test cases locally\n",
    "for i, (input_, expected_output) in enumerate(test_cases):\n",
    "    print(f\"Running test case {i} with input '{input_}'...\")\n",
    "\n",
    "    try:\n",
    "        output = run(input_)\n",
    "\n",
    "    except Exception as exc:\n",
    "        print(f\"Runtime Error. {exc}\")\n",
    "\n",
    "    else:\n",
    "        if message := check(output, expected_output):\n",
    "            print(f\"Wrong Answer. Have: '{output}'. Want: '{expected_output}'.\")\n",
    "\n",
    "        else:\n",
    "            print(\"Correct!\")"
   ]
  }
 ],
 "metadata": {
  "kernelspec": {
   "display_name": "base",
   "language": "python",
   "name": "python3"
  },
  "language_info": {
   "codemirror_mode": {
    "name": "ipython",
    "version": 3
   },
   "file_extension": ".py",
   "mimetype": "text/x-python",
   "name": "python",
   "nbconvert_exporter": "python",
   "pygments_lexer": "ipython3",
   "version": "3.11.4"
  },
  "orig_nbformat": 4
 },
 "nbformat": 4,
 "nbformat_minor": 2
}
