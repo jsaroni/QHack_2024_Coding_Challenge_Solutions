{
 "cells": [
  {
   "cell_type": "code",
   "execution_count": 1,
   "metadata": {},
   "outputs": [],
   "source": [
    "import json\n",
    "import pennylane as qml\n",
    "import pennylane.numpy as np"
   ]
  },
  {
   "cell_type": "code",
   "execution_count": 2,
   "metadata": {},
   "outputs": [],
   "source": [
    "# Write any helper functions you need here\n",
    "\n",
    "def GHZ_circuit(noise_param, n_qubits):\n",
    "\n",
    "    \"\"\"\n",
    "    Quantum circuit that prepares an imperfect GHZ state using gates native to a neutral atom device.\n",
    "\n",
    "    Args:\n",
    "        - noise_param (float): Parameter that quantifies the noise in the CZ gate, modelled as a \n",
    "        depolarizing channel on the target qubit. noise_param is the parameter of the depolarizing channel\n",
    "        following the PennyLane convention.\n",
    "        - n_qubits (int): The number of qubits in the prepared GHZ state.\n",
    "    Returns:\n",
    "        - (np.tensor): A density matrix, as returned by `qml.state`, representing the imperfect GHZ state.\n",
    "    \n",
    "    \"\"\"\n",
    "    \n",
    "\n",
    "    # Put your code here\n",
    "    qml.RX(np.pi/2, 0)\n",
    "    for i in range(1, n_qubits):\n",
    "        qml.RX(np.pi/2, i)\n",
    "        qml.RY(np.pi/2, i)\n",
    "        qml.CZ([0,i])\n",
    "        qml.DepolarizingChannel(noise_param,i)\n",
    "        qml.RX(np.pi/2, i)\n",
    "    return qml.state()\n",
    "    \n",
    "\n",
    "def GHZ_fidelity(noise_param, n_qubits):\n",
    "\n",
    "    \"\"\"\n",
    "    Calculates the fidelity between the imperfect GHZ state returned by GHZ_circuit and the ideal GHZ state.\n",
    "\n",
    "    Args:\n",
    "        - noise_param (float): Parameter that quantifies the noise in the CZ gate, modelled as a \n",
    "        depolarizing channel on the target qubit. noise_param is the parameter of the depolarizing channel\n",
    "        following the PennyLane convention.\n",
    "        - n_qubits (int): The number of qubits in the GHZ state.\n",
    "    Returns:\n",
    "        - (float): The fidelity between the noisy and ideal GHZ states.\n",
    "    \"\"\"\n",
    "    \n",
    "    dev = qml.device('default.mixed', wires=n_qubits)\n",
    "    \n",
    "    GHZ_QNode = qml.QNode(GHZ_circuit,dev)\n",
    "    \n",
    "\n",
    "    # Use GHZ_QNode to find the fidelity between\n",
    "    # the noisy GHZ state and an ideal GHZ state\n",
    "    state0=GHZ_QNode(noise_param, n_qubits)\n",
    "    state1=GHZ_QNode(0, n_qubits)\n",
    "    return qml.math.fidelity(state0, state1)\n",
    "    \n",
    "\n",
    "# These functions are responsible for testing the solution.\n",
    "\n",
    "def run(test_case_input: str) -> str:\n",
    "    ins = json.loads(test_case_input)\n",
    "    output = GHZ_fidelity(*ins)\n",
    "\n",
    "    return str(output)\n",
    "\n",
    "def check(solution_output: str, expected_output: str) -> None:\n",
    "    solution_output = json.loads(solution_output)\n",
    "    expected_output = json.loads(expected_output)\n",
    "    \n",
    "    dev = qml.device('default.mixed', wires=4)\n",
    "    qnode = qml.QNode(GHZ_circuit, dev)\n",
    "    u = qnode(0.05,3)\n",
    "    \n",
    "    for op in qnode.tape.operations:\n",
    "        assert (isinstance(op, qml.RX) or isinstance(op, qml.RY) or isinstance(op, qml.CZ) or isinstance(op, qml.DepolarizingChannel)), \"You are using forbidden gates!\"\n",
    "\n",
    "    assert np.isclose(solution_output, expected_output, rtol = 1e-4)"
   ]
  },
  {
   "cell_type": "code",
   "execution_count": 3,
   "metadata": {},
   "outputs": [],
   "source": [
    "# These are the public test cases\n",
    "test_cases = [\n",
    "    ('[0.05, 3]', '0.9027779255467782'),\n",
    "    ('[0.01, 5]', '0.9606614879634601')\n",
    "]"
   ]
  },
  {
   "cell_type": "code",
   "execution_count": 4,
   "metadata": {},
   "outputs": [
    {
     "name": "stdout",
     "output_type": "stream",
     "text": [
      "Running test case 0 with input '[0.05, 3]'...\n",
      "Correct!\n",
      "Running test case 1 with input '[0.01, 5]'...\n",
      "Correct!\n"
     ]
    }
   ],
   "source": [
    "# This will run the public test cases locally\n",
    "for i, (input_, expected_output) in enumerate(test_cases):\n",
    "    print(f\"Running test case {i} with input '{input_}'...\")\n",
    "\n",
    "    try:\n",
    "        output = run(input_)\n",
    "\n",
    "    except Exception as exc:\n",
    "        print(f\"Runtime Error. {exc}\")\n",
    "\n",
    "    else:\n",
    "        if message := check(output, expected_output):\n",
    "            print(f\"Wrong Answer. Have: '{output}'. Want: '{expected_output}'.\")\n",
    "\n",
    "        else:\n",
    "            print(\"Correct!\")"
   ]
  }
 ],
 "metadata": {
  "kernelspec": {
   "display_name": "base",
   "language": "python",
   "name": "python3"
  },
  "language_info": {
   "codemirror_mode": {
    "name": "ipython",
    "version": 3
   },
   "file_extension": ".py",
   "mimetype": "text/x-python",
   "name": "python",
   "nbconvert_exporter": "python",
   "pygments_lexer": "ipython3",
   "version": "3.11.4"
  },
  "orig_nbformat": 4
 },
 "nbformat": 4,
 "nbformat_minor": 2
}
