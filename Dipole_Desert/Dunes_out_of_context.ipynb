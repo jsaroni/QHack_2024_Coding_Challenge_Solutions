{
 "cells": [
  {
   "cell_type": "code",
   "execution_count": 8,
   "metadata": {},
   "outputs": [],
   "source": [
    "import json\n",
    "import pennylane as qml\n",
    "import pennylane.numpy as np"
   ]
  },
  {
   "cell_type": "code",
   "execution_count": 10,
   "metadata": {},
   "outputs": [],
   "source": [
    "\n",
    "dev = qml.device('default.qutrit', wires = 1)\n",
    "\n",
    "@qml.qnode(dev)\n",
    "def prepare_qutrit(chi, eta):\n",
    "    \"\"\"\n",
    "    This QNode prepares the state |phi> as defined in the statement and\n",
    "    computes the measurement probabilities in the qutrit computational basis.\n",
    "    \n",
    "    Args: \n",
    "        - chi (float): The angle chi parametrizing the state |phi>.\n",
    "        - eta (float): The angle eta parametrizing the state |eta>.\n",
    "    Returns:\n",
    "        - (np.array(float)): The measurement probabilities in the computational\n",
    "        basis after preparing the state.\n",
    "    \n",
    "    \"\"\"\n",
    "\n",
    "    # Put your code here #\n",
    "    M=np.zeros((3,3))\n",
    "    M[1,1]=np.cos(eta)\n",
    "    M[1,0]=np.sin(eta)\n",
    "    M[0,1]=-np.sin(eta)\n",
    "    M[0,0]=np.cos(eta)\n",
    "    M[2,2]=1\n",
    "\n",
    "    M1=np.zeros((3,3))\n",
    "    M1[1,1]=1\n",
    "    M1[0,0]=np.cos(chi)\n",
    "    M1[2,2]=np.cos(chi)\n",
    "    M1[0,2]=np.sin(chi)\n",
    "    M1[2,0]=-np.sin(chi)\n",
    "    qml.QutritBasisState([2],wires=0)\n",
    "\n",
    "    qml.QutritUnitary(M1, wires=0)\n",
    "    qml.QutritUnitary(M, wires=0)\n",
    "\n",
    "    return qml.probs(wires=0)\n",
    "\n",
    "def evaluate_sum(chi, eta_array):\n",
    "    \"\"\"\n",
    "    This QNode computes the sum S as in the statement.\n",
    "    \n",
    "    Args: \n",
    "        chi (float): The angle chi parametrizing the states |phi_i>.\n",
    "        eta_array (float): Contains the angles eta_i parametrizing the state |eta_i>.\n",
    "    Returns:\n",
    "        (np.array(float)): The sum S as defined in the statement.\n",
    "        \n",
    "    \"\"\"\n",
    "\n",
    "    # Put your code here\n",
    "    s=0\n",
    "    N=len(eta_array)\n",
    "    for i in range(N):\n",
    "        s+=prepare_qutrit(chi,eta_array[i])[2]\n",
    "    return s\n",
    "\n",
    "# These functions are responsible for testing the solution.\n",
    "\n",
    "\n",
    "def run(test_case_input: str) -> str:\n",
    "    ins = json.loads(test_case_input)\n",
    "    outs = evaluate_sum(*ins)\n",
    "    \n",
    "    return str(outs)\n",
    "\n",
    "\n",
    "def check(solution_output: str, expected_output: str) -> None:\n",
    "    solution_output = json.loads(solution_output)\n",
    "    expected_output = json.loads(expected_output)\n",
    "    assert np.allclose(solution_output,expected_output, atol = 1e-4), \"Not the correct sum!\""
   ]
  },
  {
   "cell_type": "code",
   "execution_count": 11,
   "metadata": {},
   "outputs": [],
   "source": [
    "# These are the public test cases\n",
    "test_cases = [\n",
    "    ('[0.838283, [0.6283189, 1.884956, 3.141593, 4.398230, 5.654867]]', '2.236069'),\n",
    "    ('[0.4, [1.047198, 2.094395, 3.141593, 4.18879, 5.235988]]', '4.241767')\n",
    "]"
   ]
  },
  {
   "cell_type": "code",
   "execution_count": 12,
   "metadata": {},
   "outputs": [
    {
     "name": "stdout",
     "output_type": "stream",
     "text": [
      "Running test case 0 with input '[0.838283, [0.6283189, 1.884956, 3.141593, 4.398230, 5.654867]]'...\n",
      "Correct!\n",
      "Running test case 1 with input '[0.4, [1.047198, 2.094395, 3.141593, 4.18879, 5.235988]]'...\n",
      "Correct!\n"
     ]
    }
   ],
   "source": [
    "# This will run the public test cases locally\n",
    "for i, (input_, expected_output) in enumerate(test_cases):\n",
    "    print(f\"Running test case {i} with input '{input_}'...\")\n",
    "\n",
    "    try:\n",
    "        output = run(input_)\n",
    "\n",
    "    except Exception as exc:\n",
    "        print(f\"Runtime Error. {exc}\")\n",
    "\n",
    "    else:\n",
    "        if message := check(output, expected_output):\n",
    "            print(f\"Wrong Answer. Have: '{output}'. Want: '{expected_output}'.\")\n",
    "\n",
    "        else:\n",
    "            print(\"Correct!\")"
   ]
  },
  {
   "cell_type": "code",
   "execution_count": null,
   "metadata": {},
   "outputs": [],
   "source": []
  }
 ],
 "metadata": {
  "kernelspec": {
   "display_name": "base",
   "language": "python",
   "name": "python3"
  },
  "language_info": {
   "codemirror_mode": {
    "name": "ipython",
    "version": 3
   },
   "file_extension": ".py",
   "mimetype": "text/x-python",
   "name": "python",
   "nbconvert_exporter": "python",
   "pygments_lexer": "ipython3",
   "version": "3.11.4"
  },
  "orig_nbformat": 4
 },
 "nbformat": 4,
 "nbformat_minor": 2
}
