{
 "cells": [
  {
   "cell_type": "code",
   "execution_count": 1,
   "metadata": {},
   "outputs": [
    {
     "name": "stdout",
     "output_type": "stream",
     "text": [
      "Running test case 0 with input '1.23456'...\n",
      "Correct!\n",
      "Running test case 1 with input '2.957'...\n",
      "Correct!\n"
     ]
    }
   ],
   "source": [
    "import json\n",
    "import pennylane as qml\n",
    "import pennylane.numpy as np\n",
    "\n",
    "# Step 1: initialize a device\n",
    "dev = qml.device('default.qubit', wires=1)# Put your code here #\n",
    "\n",
    "# Step 2: Add a decorator below\n",
    "@qml.qnode(dev)\n",
    "\n",
    "def simple_circuit(angle):\n",
    "\n",
    "    \"\"\"\n",
    "    In this function:\n",
    "        * Rotate the qubit around the y-axis by angle\n",
    "        * Measure the expectation value of the Pauli X observable\n",
    "\n",
    "    Args:\n",
    "        angle (float): how much to rotate a state around the y-axis\n",
    "\n",
    "    Returns:\n",
    "        Union[tensor, float]: The expectation value of the Pauli X observable\n",
    "    \"\"\"\n",
    "    \n",
    "\n",
    "\n",
    "    # Step 3: Add gates to the QNode\n",
    "\n",
    "    # Put your code here #\n",
    "    qml.RY(angle, wires=0)\n",
    "    # Step 4: Return the required expectation value \n",
    "    return qml.expval(qml.PauliX(0))\n",
    "\n",
    "# These functions are responsible for testing the solution.\n",
    "def run(test_case_input: str) -> str:\n",
    "    angle = json.loads(test_case_input)\n",
    "    output = simple_circuit(angle).numpy()\n",
    "\n",
    "    return str(output)\n",
    "\n",
    "def check(solution_output: str, expected_output: str) -> None:\n",
    "    solution_output = json.loads(solution_output)\n",
    "    expected_output = json.loads(expected_output)\n",
    "    assert np.allclose(solution_output, expected_output, rtol=1e-4)\n",
    "\n",
    "\n",
    "# These are the public test cases\n",
    "test_cases = [\n",
    "    ('1.23456', '0.9440031218347901'),\n",
    "    ('2.957', '0.1835461227247332')\n",
    "]\n",
    "\n",
    "# This will run the public test cases locally\n",
    "for i, (input_, expected_output) in enumerate(test_cases):\n",
    "    print(f\"Running test case {i} with input '{input_}'...\")\n",
    "\n",
    "    try:\n",
    "        output = run(input_)\n",
    "\n",
    "    except Exception as exc:\n",
    "        print(f\"Runtime Error. {exc}\")\n",
    "\n",
    "    else:\n",
    "        if message := check(output, expected_output):\n",
    "            print(f\"Wrong Answer. Have: '{output}'. Want: '{expected_output}'.\")\n",
    "\n",
    "        else:\n",
    "            print(\"Correct!\")"
   ]
  }
 ],
 "metadata": {
  "kernelspec": {
   "display_name": "base",
   "language": "python",
   "name": "python3"
  },
  "language_info": {
   "codemirror_mode": {
    "name": "ipython",
    "version": 3
   },
   "file_extension": ".py",
   "mimetype": "text/x-python",
   "name": "python",
   "nbconvert_exporter": "python",
   "pygments_lexer": "ipython3",
   "version": "3.11.4"
  },
  "orig_nbformat": 4
 },
 "nbformat": 4,
 "nbformat_minor": 2
}
